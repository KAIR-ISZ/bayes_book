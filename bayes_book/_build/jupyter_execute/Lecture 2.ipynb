{
 "cells": [
  {
   "cell_type": "markdown",
   "metadata": {
    "slideshow": {
     "slide_type": "slide"
    }
   },
   "source": [
    "# Data analytics\n",
    "\n",
    "## Bayesian basics\n",
    "\n",
    "### dr hab. inż. Jerzy Baranowski, Prof. AGH"
   ]
  },
  {
   "cell_type": "markdown",
   "metadata": {
    "slideshow": {
     "slide_type": "slide"
    }
   },
   "source": [
    "## Bayes' rule\n",
    "In most applicatations we focus on the numerator\n",
    "\n",
    "$$ \\underbrace{p(\\theta|y)}_{\\mathrm{posterior}}\\propto \n",
    "\\underbrace{p(\\theta)}_{\\mathrm{prior}}\n",
    "\\underbrace{p(y|\\theta)}_{\\mathrm{likelihood}}\n",
    "$$\n"
   ]
  },
  {
   "cell_type": "markdown",
   "metadata": {
    "slideshow": {
     "slide_type": "subslide"
    }
   },
   "source": [
    "## Predictions\n",
    "\n",
    "### Prior predictive distribution\n",
    "\n",
    "What values of data can we expect before actual measurements (based on prior knowledge)\n",
    "\n",
    "$$\n",
    "p(y)=\\int p(y,\\theta) d\\theta=\\int p(\\theta)p(y|\\theta)d\\theta\n",
    "$$"
   ]
  },
  {
   "cell_type": "markdown",
   "metadata": {
    "slideshow": {
     "slide_type": "subslide"
    }
   },
   "source": [
    "## Predictions\n",
    "\n",
    "### Posterior predictive distribution\n",
    "\n",
    "What values of new data can we expect based on previous measurements and prior knowledge\n",
    "\n",
    "$$\n",
    "p(\\tilde{y}|y)=\\int p(\\tilde{y},\\theta|y) d\\theta=\n",
    "\\int p(\\tilde{y}|\\theta,y) p(\\theta|y)d\\theta=\n",
    "\\int p(\\tilde{y}|\\theta) p(\\theta|y)d\\theta\n",
    "$$"
   ]
  },
  {
   "cell_type": "markdown",
   "metadata": {
    "slideshow": {
     "slide_type": "subslide"
    }
   },
   "source": [
    "## Additional notation and properties\n",
    "### Everything is conditional\n",
    "$$p(\\theta,y|H)=p(\\theta|H)p(y|\\theta,H)$$\n",
    "\n",
    "### Expectation\n",
    "$$ \\mathrm{E}(u)=\\int up(u) d u $$\n",
    "\n",
    "### Variance\n",
    "$$ \\mathrm{var}(u)=\\int(u-\\mathrm{E}(u))(u-\\mathrm{E}(u))^T p(u) du$$"
   ]
  },
  {
   "cell_type": "markdown",
   "metadata": {
    "slideshow": {
     "slide_type": "subslide"
    }
   },
   "source": [
    "## Conditional expectations and variances\n",
    "### Expectation of conditional distribution\n",
    "$$ \\mathrm{E}(u)=\\mathrm{E}(\\mathrm{E}(u|v)) $$\n",
    "$$ \\mathrm{E}(u)=\\iint u p(u,v) du dv =\\iint u p(u|v) du p(v) dv=\\int  \\mathrm{E}(u|v)p(v)d v $$\n",
    "### Variance of conditional distribution\n",
    "$$ \\mathrm{var}(u)=\\mathrm{E}(\\mathrm{var}(u|v))+\\mathrm{var}(\\mathrm{E}(u|v) $$"
   ]
  },
  {
   "cell_type": "markdown",
   "metadata": {
    "slideshow": {
     "slide_type": "subslide"
    }
   },
   "source": [
    "## Changing variables\n",
    "$$ v=f(u) $$\n",
    "### Discrete distributions\n",
    "$$\n",
    "p_v(v)=p_u(f^{-1}(v))\n",
    "$$\n",
    "\n",
    "## Continuous distributions\n",
    "$$\n",
    "p_v(v)=|J|p_u(f^{-1}(v))\n",
    "$$"
   ]
  },
  {
   "cell_type": "markdown",
   "metadata": {
    "slideshow": {
     "slide_type": "subslide"
    }
   },
   "source": [
    "## Typical variable changes\n",
    "It is useful to work on the unbounded interval i.e. $(-\\infty,\\infty)$. Often parameters are bounded, so we use transformations\n",
    "\n",
    "- Logarithmic (from $(0,\\infty)\\rightarrow (-\\infty,\\infty)$)\n",
    "$$ v=\\log(u)$$\n",
    "- Logistic (from $(0,1)\\rightarrow (-\\infty,\\infty)$)\n",
    "$$ v=\\mathrm{logit}(u) $$\n",
    "where \n",
    "$$ \\mathrm{logit}(x)=\\log\\left(\\frac{x}{1-x}\\right),\\quad\n",
    "\\mathrm{logit}^{-1}(y)=\\frac{\\exp(y)}{1+\\exp(y)}$$\n",
    "\n",
    "- Probit (from $(0,1)\\rightarrow (-\\infty,\\infty)$)\n",
    "$$ v=\\Phi^{-1}(u) $$\n",
    "where $\\phi$ is the standard normal cumulative distribution function"
   ]
  },
  {
   "cell_type": "markdown",
   "metadata": {
    "slideshow": {
     "slide_type": "slide"
    }
   },
   "source": [
    "## Single parameter models\n",
    "### Building blocks of more complicated models\n",
    "### Answers to basic questions e.g.:\n",
    "- What is the average difference between treatment groups?\n",
    "- How strong is the association between a treatment and an outcome?\n",
    "- Does the effect of the treatment depend upon a covariate?\n",
    "- How much variation is there among groups?"
   ]
  },
  {
   "cell_type": "markdown",
   "metadata": {
    "slideshow": {
     "slide_type": "subslide"
    }
   },
   "source": [
    "## Binomial model\n",
    "\n",
    "- Natural model for data that arise from a sequence of $n$ exchangeable trials \n",
    "- Two possible outcomes, conventionally labeled ‘success’ and ‘failure.’\n",
    "$$\n",
    "p(y|\\theta)=\\mathrm{Bin}(y|n,\\theta)={n \\choose y}\\theta^y (1-\\theta)^{n-y}\n",
    "$$\n"
   ]
  },
  {
   "cell_type": "markdown",
   "metadata": {
    "slideshow": {
     "slide_type": "subslide"
    }
   },
   "source": [
    "## Example of Bayesian learning\n",
    "Globe tossing:\n",
    "- The true proportion of water covering the globe is p.\n",
    "- A single toss of the globe has a probability $p$ of producing a water (W) observation.\n",
    "- It has a probability $1 − p$ of producing a land (L) observation. \n",
    "- Each toss of the globe is independent of the others."
   ]
  },
  {
   "cell_type": "markdown",
   "metadata": {
    "slideshow": {
     "slide_type": "subslide"
    }
   },
   "source": [
    "## Globe tossing likelyhood"
   ]
  },
  {
   "cell_type": "code",
   "execution_count": 1,
   "metadata": {
    "slideshow": {
     "slide_type": "skip"
    }
   },
   "outputs": [],
   "source": [
    "import scipy.stats as stats\n",
    "import numpy as np\n",
    "#import seaborn as sns\n",
    "import matplotlib.pyplot as plt\n",
    "theta=np.linspace(0,1,200)\n",
    "#sns.set(style='darkgrid')"
   ]
  },
  {
   "cell_type": "code",
   "execution_count": 2,
   "metadata": {},
   "outputs": [
    {
     "data": {
      "image/png": "[encoded data removed]",
      "text/plain": [
       "<Figure size 432x288 with 1 Axes>"
      ]
     },
     "metadata": {
      "filenames": {
       "image/png": "/Users/jerzybaranowski/GitHub/Private/ksiazka_profesorska/bayes_book/_build/jupyter_execute/Lecture 2_13_0.png"
      },
      "needs_background": "light"
     },
     "output_type": "display_data"
    }
   ],
   "source": [
    "y=7\n",
    "n=11\n",
    "likelihood = stats.binom.pmf(y, n, theta)\n",
    "plt.plot(theta,likelihood)\n",
    "plt.xlabel(r'$\\theta$')\n",
    "plt.show()"
   ]
  },
  {
   "cell_type": "markdown",
   "metadata": {
    "slideshow": {
     "slide_type": "subslide"
    }
   },
   "source": [
    "## How does it look analytically?\n",
    "Posterior distribution with uniform prior takes form\n",
    "$$ p(\\theta|y)\\propto \\theta^y (1-\\theta)^{n-y}$$\n",
    "Which has form of Beta distribution\n",
    "$$ \\theta|y\\sim \\mathrm{Beta} (y+1,n-y+1)$$"
   ]
  },
  {
   "cell_type": "markdown",
   "metadata": {
    "slideshow": {
     "slide_type": "slide"
    }
   },
   "source": [
    "## How to summarize posterior?\n",
    "- Ideally – by itself\n",
    "- Usually – mean, median, mode\n",
    "- Variation – standard deviation, the interquartile range, and other quantiles"
   ]
  },
  {
   "cell_type": "markdown",
   "metadata": {
    "slideshow": {
     "slide_type": "subslide"
    }
   },
   "source": [
    "## Interval summaries\n",
    "- Central interval - a symmetric interval around for example a mean\n",
    "- Highest posterior density region - smallest interval containing the desired probability\n",
    "\n",
    "<img src=\"img/intervals.png\" width=\"500\">\n"
   ]
  },
  {
   "cell_type": "markdown",
   "metadata": {
    "slideshow": {
     "slide_type": "slide"
    }
   },
   "source": [
    "## Priors\n",
    "- **population interpretation**, the prior distribution represents a population of possible parameter values, from which the $\\theta$ of current interest has been drawn\n",
    "- **state of knowledge interpretation**, we must express our knowledge (and uncertainty) about $\\theta$ as if its value could be thought of as a random realization from the prior distribution"
   ]
  },
  {
   "cell_type": "markdown",
   "metadata": {
    "slideshow": {
     "slide_type": "subslide"
    }
   },
   "source": [
    "## Informative priors\n",
    "- They try to introduce new information\n",
    "- Often interpreted as knowledge from previous experiments\n",
    "- For binomial example\n",
    "$$ p(\\theta)\\propto \\theta^{\\alpha-1}(1-\\theta)^{\\beta-1}$$\n",
    "It’s a Beta distribution $\\theta \\sim \\mathrm{Beta}(\\alpha, \\beta)$, prior density is equivalent to $\\alpha − 1$ prior successes and $\\beta − 1$ prior failures."
   ]
  },
  {
   "cell_type": "markdown",
   "metadata": {
    "slideshow": {
     "slide_type": "subslide"
    }
   },
   "source": [
    "## Posterior with informative prior\n",
    "Posterior has a closed form\n",
    "$$\n",
    "\\begin{aligned}\n",
    "p(\\theta|y)\\propto{}& \\theta^{y}(1-\\theta)^{n-y}\\theta^{\\alpha-1}(1-\\theta)^{\\beta-1}=\\\\\n",
    "={}&\\theta^{y+\\alpha-1}(1-\\theta)^{n-y+\\beta-1}=\\\\\n",
    "={}&\\mathrm{Beta}(\\alpha+y,\\beta+n-y)\n",
    "\\end{aligned}\n",
    "$$\n",
    "With expectation\n",
    "$$\n",
    "\\mathrm{E}(\\theta|y)=\\frac{\\alpha+y}{\\alpha+\\beta+n}\n",
    "$$\n",
    "which always lies between the sample proportion, $y/n$, and the prior mean, $\\alpha/(\\alpha + \\beta)$"
   ]
  },
  {
   "cell_type": "markdown",
   "metadata": {
    "slideshow": {
     "slide_type": "subslide"
    }
   },
   "source": [
    "## Conjugacy\n",
    "$$ p(\\theta|y)\\in\\mathcal{P}\\mathrm{for\\ all}\\ p(\\cdot|\\theta)\\in\\mathcal{F}\\ \\mathrm{and}\\ p(\\cdot)\\in\\mathcal{P}\n",
    "$$\n",
    "\n",
    "Class $\\mathcal{P}$ is conjugate to class $\\mathcal{F}$\n",
    "\n",
    "- Conjugacy makes everything easier, formulas are analytic so computation is faster\n",
    "- It should not be a goal by itself, as sometimes different distributions are much more justified"
   ]
  },
  {
   "cell_type": "markdown",
   "metadata": {
    "slideshow": {
     "slide_type": "subslide"
    }
   },
   "source": [
    "## Example - biology\n",
    "\n",
    "Is proportion of girls born with placenta previa lower than the proportion of female births in general population i.e. 0.485?\n",
    "\n",
    "Study results: of 980 births with PP 437 were female.\n",
    "<img src=\"img/placenta.png\" width=\"400\">\n"
   ]
  },
  {
   "cell_type": "markdown",
   "metadata": {
    "slideshow": {
     "slide_type": "subslide"
    }
   },
   "source": [
    "## Uniform prior\n",
    "Assuming uniform prior the analytic computation gives us posterior Beta(438,544). We can compute values analytically but its easier via sampling"
   ]
  },
  {
   "cell_type": "code",
   "execution_count": 3,
   "metadata": {
    "slideshow": {
     "slide_type": "-"
    }
   },
   "outputs": [
    {
     "name": "stdout",
     "output_type": "stream",
     "text": [
      "94% HPD interval:[0.41688465 0.47647535]\n",
      "Median:0.4461052564859803\n"
     ]
    }
   ],
   "source": [
    "import arviz as az\n",
    "samples=np.random.beta(438,544,10000)\n",
    "interval=az.hdi(samples,0.94) \n",
    "\n",
    "print('94% HPD interval:'+str(interval))\n",
    "print('Median:'+str(np.median(samples)))"
   ]
  },
  {
   "cell_type": "markdown",
   "metadata": {
    "slideshow": {
     "slide_type": "subslide"
    }
   },
   "source": [
    "### Visualisation"
   ]
  },
  {
   "cell_type": "code",
   "execution_count": 4,
   "metadata": {
    "slideshow": {
     "slide_type": "skip"
    }
   },
   "outputs": [
    {
     "data": {
      "image/png": "[encoded data removed]",
      "text/plain": [
       "<Figure size 432x288 with 1 Axes>"
      ]
     },
     "metadata": {
      "filenames": {
       "image/png": "/Users/jerzybaranowski/GitHub/Private/ksiazka_profesorska/bayes_book/_build/jupyter_execute/Lecture 2_25_0.png"
      },
      "needs_background": "light"
     },
     "output_type": "display_data"
    }
   ],
   "source": [
    "\n",
    "theta1=np.linspace(0.3,0.6,200)\n",
    "theta2=np.linspace(interval[0],interval[1],200)\n",
    "bd=stats.beta.pdf(theta1,438,544)\n",
    "bd2=stats.beta.pdf(theta2,438,544)\n",
    "\n",
    "fig, ax = plt.subplots()\n",
    "ax.plot(theta1,bd)\n",
    "ax.fill_between(theta2, bd2, alpha=0.5)\n",
    "plt.show()"
   ]
  },
  {
   "cell_type": "code",
   "execution_count": 5,
   "metadata": {},
   "outputs": [
    {
     "data": {
      "image/png": "[encoded data removed]",
      "text/plain": [
       "<Figure size 432x288 with 1 Axes>"
      ]
     },
     "execution_count": 5,
     "metadata": {
      "filenames": {
       "image/png": "/Users/jerzybaranowski/GitHub/Private/ksiazka_profesorska/bayes_book/_build/jupyter_execute/Lecture 2_26_0.png"
      }
     },
     "output_type": "execute_result"
    }
   ],
   "source": [
    "fig"
   ]
  },
  {
   "cell_type": "markdown",
   "metadata": {
    "slideshow": {
     "slide_type": "subslide"
    }
   },
   "source": [
    "## Conjugate priors\n",
    "\n",
    "For binomial likelihood Beta is its conjugate. We can encode our knowledge (mean value of whole population) using the following relationships:\n",
    "\n",
    "- mean of $\\mathrm{Beta}(\\alpha,\\beta)$ distribution is $\\frac{\\alpha}{\\alpha+\\beta}$\n",
    "- interpreting Beta, as previous binomial experiments then $\\alpha+\\beta$ is the population size\n",
    "- we can try to do computation using various population sizes keeping mean of $0.485$"
   ]
  },
  {
   "cell_type": "code",
   "execution_count": 6,
   "metadata": {
    "slideshow": {
     "slide_type": "subslide"
    }
   },
   "outputs": [],
   "source": [
    "sizes=[2, 5, 10, 20, 100, 200, 1000]\n",
    "post_median=[]\n",
    "post_hpd=[]\n",
    "alphas=[]\n",
    "betas=[]\n",
    "for n in sizes:\n",
    "    alpha=0.485*n\n",
    "    beta=n-alpha\n",
    "    alphas.append(alpha)\n",
    "    betas.append(beta)\n",
    "    post_samples=np.random.beta(438+alpha,544+beta,1000)\n",
    "    post_median.append(np.median(post_samples))\n",
    "    post_hpd.append(az.hdi(post_samples,0.94))\n"
   ]
  },
  {
   "cell_type": "code",
   "execution_count": 7,
   "metadata": {
    "slideshow": {
     "slide_type": "skip"
    }
   },
   "outputs": [],
   "source": [
    "import pandas as pd\n",
    "df=pd.DataFrame({'Population size':sizes,\n",
    "                 'Posterior median':post_median,\n",
    "                 'Posterior 94% credible interval':post_hpd})"
   ]
  },
  {
   "cell_type": "code",
   "execution_count": 8,
   "metadata": {
    "slideshow": {
     "slide_type": "subslide"
    }
   },
   "outputs": [
    {
     "data": {
      "text/html": [
       "<div>\n",
       "<style scoped>\n",
       "    .dataframe tbody tr th:only-of-type {\n",
       "        vertical-align: middle;\n",
       "    }\n",
       "\n",
       "    .dataframe tbody tr th {\n",
       "        vertical-align: top;\n",
       "    }\n",
       "\n",
       "    .dataframe thead th {\n",
       "        text-align: right;\n",
       "    }\n",
       "</style>\n",
       "<table border=\"1\" class=\"dataframe\">\n",
       "  <thead>\n",
       "    <tr style=\"text-align: right;\">\n",
       "      <th></th>\n",
       "      <th>Population size</th>\n",
       "      <th>Posterior median</th>\n",
       "      <th>Posterior 94% credible interval</th>\n",
       "    </tr>\n",
       "  </thead>\n",
       "  <tbody>\n",
       "    <tr>\n",
       "      <th>0</th>\n",
       "      <td>2</td>\n",
       "      <td>0.445856</td>\n",
       "      <td>[0.417484255691757, 0.47602979210304935]</td>\n",
       "    </tr>\n",
       "    <tr>\n",
       "      <th>1</th>\n",
       "      <td>5</td>\n",
       "      <td>0.445527</td>\n",
       "      <td>[0.41811418664120764, 0.4778747099232391]</td>\n",
       "    </tr>\n",
       "    <tr>\n",
       "      <th>2</th>\n",
       "      <td>10</td>\n",
       "      <td>0.447407</td>\n",
       "      <td>[0.4186888381864138, 0.47691604699679235]</td>\n",
       "    </tr>\n",
       "    <tr>\n",
       "      <th>3</th>\n",
       "      <td>20</td>\n",
       "      <td>0.446807</td>\n",
       "      <td>[0.4155422094988496, 0.47405246625526415]</td>\n",
       "    </tr>\n",
       "    <tr>\n",
       "      <th>4</th>\n",
       "      <td>100</td>\n",
       "      <td>0.450309</td>\n",
       "      <td>[0.4222400631569723, 0.4796459579519981]</td>\n",
       "    </tr>\n",
       "    <tr>\n",
       "      <th>5</th>\n",
       "      <td>200</td>\n",
       "      <td>0.452851</td>\n",
       "      <td>[0.4232550816547827, 0.4770771131716891]</td>\n",
       "    </tr>\n",
       "    <tr>\n",
       "      <th>6</th>\n",
       "      <td>1000</td>\n",
       "      <td>0.465229</td>\n",
       "      <td>[0.44581209507534625, 0.4862551829261736]</td>\n",
       "    </tr>\n",
       "  </tbody>\n",
       "</table>\n",
       "</div>"
      ],
      "text/plain": [
       "   Population size  Posterior median  \\\n",
       "0                2          0.445856   \n",
       "1                5          0.445527   \n",
       "2               10          0.447407   \n",
       "3               20          0.446807   \n",
       "4              100          0.450309   \n",
       "5              200          0.452851   \n",
       "6             1000          0.465229   \n",
       "\n",
       "             Posterior 94% credible interval  \n",
       "0   [0.417484255691757, 0.47602979210304935]  \n",
       "1  [0.41811418664120764, 0.4778747099232391]  \n",
       "2  [0.4186888381864138, 0.47691604699679235]  \n",
       "3  [0.4155422094988496, 0.47405246625526415]  \n",
       "4   [0.4222400631569723, 0.4796459579519981]  \n",
       "5   [0.4232550816547827, 0.4770771131716891]  \n",
       "6  [0.44581209507534625, 0.4862551829261736]  "
      ]
     },
     "execution_count": 8,
     "metadata": {},
     "output_type": "execute_result"
    }
   ],
   "source": [
    "df.head(7)"
   ]
  },
  {
   "cell_type": "code",
   "execution_count": 9,
   "metadata": {
    "slideshow": {
     "slide_type": "skip"
    }
   },
   "outputs": [
    {
     "data": {
      "image/png": "[encoded data removed]",
      "text/plain": [
       "<Figure size 504x288 with 3 Axes>"
      ]
     },
     "metadata": {
      "filenames": {
       "image/png": "/Users/jerzybaranowski/GitHub/Private/ksiazka_profesorska/bayes_book/_build/jupyter_execute/Lecture 2_31_0.png"
      },
      "needs_background": "light"
     },
     "output_type": "display_data"
    }
   ],
   "source": [
    "f, (ax1, ax2,ax3) = plt.subplots(3, 1, sharex=True,figsize=(7,4),tight_layout=True)\n",
    "ax1.plot(theta1,stats.beta.pdf(theta1,alphas[0],betas[0]),theta1, stats.beta.pdf(theta1,438+alphas[0],544+betas[0]),theta1, stats.beta.pdf(theta1,438,544))\n",
    "ax1.set_title('Prior population size='+str(sizes[0]))\n",
    "ax1.set_yticks([])\n",
    "ax2.plot(theta1,stats.beta.pdf(theta1,alphas[3],betas[3]),theta1, stats.beta.pdf(theta1,438+alphas[3],544+betas[3]),theta1, stats.beta.pdf(theta1,438,544))\n",
    "ax2.set_title('Prior population size='+str(sizes[4]))\n",
    "ax2.set_yticks([])\n",
    "ax3.plot(theta1,stats.beta.pdf(theta1,alphas[5],betas[5]),theta1, stats.beta.pdf(theta1,438+alphas[5],544+betas[5]),theta1, stats.beta.pdf(theta1,438,544))\n",
    "ax3.set_title('Prior population size='+str(sizes[6]))\n",
    "ax3.set_yticks([])\n",
    "f.legend(['Prior','Posterior','Posterior with uniform prior'],loc=1)\n",
    "plt.show()"
   ]
  },
  {
   "cell_type": "code",
   "execution_count": 10,
   "metadata": {
    "slideshow": {
     "slide_type": "subslide"
    }
   },
   "outputs": [
    {
     "data": {
      "image/png": "[encoded data removed]",
      "text/plain": [
       "<Figure size 504x288 with 3 Axes>"
      ]
     },
     "execution_count": 10,
     "metadata": {
      "filenames": {
       "image/png": "/Users/jerzybaranowski/GitHub/Private/ksiazka_profesorska/bayes_book/_build/jupyter_execute/Lecture 2_32_0.png"
      }
     },
     "output_type": "execute_result"
    }
   ],
   "source": [
    "f"
   ]
  },
  {
   "cell_type": "markdown",
   "metadata": {
    "slideshow": {
     "slide_type": "subslide"
    }
   },
   "source": [
    "## Non-conjugate prior\n"
   ]
  },
  {
   "cell_type": "code",
   "execution_count": 11,
   "metadata": {
    "slideshow": {
     "slide_type": "skip"
    }
   },
   "outputs": [
    {
     "data": {
      "image/png": "[encoded data removed]",
      "text/plain": [
       "<Figure size 504x288 with 3 Axes>"
      ]
     },
     "metadata": {
      "filenames": {
       "image/png": "/Users/jerzybaranowski/GitHub/Private/ksiazka_profesorska/bayes_book/_build/jupyter_execute/Lecture 2_34_0.png"
      },
      "needs_background": "light"
     },
     "output_type": "display_data"
    }
   ],
   "source": [
    "f2, (ax1, ax2,ax3) = plt.subplots(3, 1, sharex=True,figsize=(7,4),tight_layout=True)\n",
    "\n",
    "ax1.plot(theta1, stats.beta.pdf(theta1,438,544))\n",
    "ax1.set_title('Likelihood')\n",
    "ax2.plot(theta1,stats.norm.pdf(theta1,0.485,0.05))\n",
    "ax2.set_title('Nonconjugate prior: N(0.485,0.05)')\n",
    "post=stats.beta.pdf(theta1,438,544)*stats.norm.pdf(theta1,0.485,0.05)\n",
    "post=post/np.sum(post)\n",
    "ax3.plot(theta1, post)\n",
    "ax3.set_title('Non-conjugate posterior')\n",
    "ax1.set_yticks([])\n",
    "ax2.set_yticks([])\n",
    "ax3.set_yticks([])\n",
    "plt.show()\n",
    "\n"
   ]
  }
 ],
 "metadata": {
  "celltoolbar": "Slideshow",
  "jupytext": {
   "formats": "ipynb"
  },
  "kernelspec": {
   "display_name": "Python 3",
   "language": "python",
   "name": "python3"
  },
  "language_info": {
   "codemirror_mode": {
    "name": "ipython",
    "version": 3
   },
   "file_extension": ".py",
   "mimetype": "text/x-python",
   "name": "python",
   "nbconvert_exporter": "python",
   "pygments_lexer": "ipython3",
   "version": "3.10.0"
  },
  "rise": {
   "autolaunch": true,
   "backimage": "img/tlo_agh.png"
  }
 },
 "nbformat": 4,
 "nbformat_minor": 4
}